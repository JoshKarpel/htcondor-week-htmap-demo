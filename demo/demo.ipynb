{
 "cells": [
  {
   "cell_type": "markdown",
   "metadata": {},
   "source": [
    "# HTMap Demo"
   ]
  },
  {
   "cell_type": "code",
   "execution_count": 1,
   "metadata": {},
   "outputs": [
    {
     "data": {
      "text/plain": [
       "2"
      ]
     },
     "execution_count": 1,
     "metadata": {},
     "output_type": "execute_result"
    }
   ],
   "source": [
    "1 + 1"
   ]
  },
  {
   "cell_type": "code",
   "execution_count": 2,
   "metadata": {},
   "outputs": [],
   "source": [
    "import numpy as np"
   ]
  },
  {
   "cell_type": "code",
   "execution_count": 3,
   "metadata": {},
   "outputs": [
    {
     "data": {
      "text/plain": [
       "array([  0.,  10.,  20.,  30.,  40.,  50.,  60.,  70.,  80.,  90., 100.])"
      ]
     },
     "execution_count": 3,
     "metadata": {},
     "output_type": "execute_result"
    }
   ],
   "source": [
    "x = np.linspace(0, 100, 11)\n",
    "x"
   ]
  },
  {
   "cell_type": "code",
   "execution_count": 4,
   "metadata": {},
   "outputs": [],
   "source": [
    "def double(x):\n",
    "    return 2 * x"
   ]
  },
  {
   "cell_type": "code",
   "execution_count": 5,
   "metadata": {},
   "outputs": [
    {
     "data": {
      "text/plain": [
       "array([  0.,  20.,  40.,  60.,  80., 100., 120., 140., 160., 180., 200.])"
      ]
     },
     "execution_count": 5,
     "metadata": {},
     "output_type": "execute_result"
    }
   ],
   "source": [
    "double(x)"
   ]
  },
  {
   "cell_type": "code",
   "execution_count": 6,
   "metadata": {},
   "outputs": [],
   "source": [
    "import htmap"
   ]
  },
  {
   "cell_type": "code",
   "execution_count": 7,
   "metadata": {},
   "outputs": [
    {
     "name": "stdout",
     "output_type": "stream",
     "text": [
      "created map burst-dizzy-scone with 11 components\n"
     ]
    }
   ],
   "source": [
    "map = htmap.map(double, x)"
   ]
  },
  {
   "cell_type": "code",
   "execution_count": 8,
   "metadata": {},
   "outputs": [
    {
     "name": "stdout",
     "output_type": "stream",
     "text": [
      "<Map(tag = burst-dizzy-scone)>\n"
     ]
    }
   ],
   "source": [
    "print(map)"
   ]
  },
  {
   "cell_type": "code",
   "execution_count": 9,
   "metadata": {},
   "outputs": [
    {
     "name": "stdout",
     "output_type": "stream",
     "text": [
      "[0.0, 20.0, 40.0, 60.0, 80.0, 100.0, 120.0, 140.0, 160.0, 180.0, 200.0]\n"
     ]
    }
   ],
   "source": [
    "print(list(map))"
   ]
  },
  {
   "cell_type": "code",
   "execution_count": 10,
   "metadata": {
    "pycharm": {
     "name": "#%%\n"
    }
   },
   "outputs": [
    {
     "name": "stdout",
     "output_type": "stream",
     "text": [
      "0.0\n",
      "20.0\n",
      "40.0\n",
      "60.0\n",
      "80.0\n",
      "100.0\n",
      "120.0\n",
      "140.0\n",
      "160.0\n",
      "180.0\n",
      "200.0\n"
     ]
    }
   ],
   "source": [
    "for y in map:\n",
    "    print(y)"
   ]
  },
  {
   "cell_type": "markdown",
   "metadata": {},
   "source": [
    "## Libraries"
   ]
  },
  {
   "cell_type": "code",
   "execution_count": 11,
   "metadata": {},
   "outputs": [
    {
     "name": "stdout",
     "output_type": "stream",
     "text": [
      "created map short-soggy-tub with 11 components\n"
     ]
    }
   ],
   "source": [
    "map = htmap.map(lambda f: np.sqrt(f), x)"
   ]
  },
  {
   "cell_type": "code",
   "execution_count": 12,
   "metadata": {},
   "outputs": [
    {
     "name": "stdout",
     "output_type": "stream",
     "text": [
      "<Map(tag = short-soggy-tub)>\n"
     ]
    }
   ],
   "source": [
    "print(map)"
   ]
  },
  {
   "cell_type": "code",
   "execution_count": 13,
   "metadata": {},
   "outputs": [
    {
     "name": "stdout",
     "output_type": "stream",
     "text": [
      "[ 0.          3.16227766  4.47213595  5.47722558  6.32455532  7.07106781\n",
      "  7.74596669  8.36660027  8.94427191  9.48683298 10.        ]\n"
     ]
    }
   ],
   "source": [
    "y = np.array(list(map))\n",
    "print(y)"
   ]
  },
  {
   "cell_type": "markdown",
   "metadata": {},
   "source": [
    "## Error Handling"
   ]
  },
  {
   "cell_type": "code",
   "execution_count": 14,
   "metadata": {},
   "outputs": [],
   "source": [
    "def bad_science(x):\n",
    "    return 1 / x"
   ]
  },
  {
   "cell_type": "code",
   "execution_count": 15,
   "metadata": {},
   "outputs": [
    {
     "ename": "ZeroDivisionError",
     "evalue": "division by zero",
     "output_type": "error",
     "traceback": [
      "\u001b[0;31m---------------------------------------------------------------------------\u001b[0m",
      "\u001b[0;31mZeroDivisionError\u001b[0m                         Traceback (most recent call last)",
      "\u001b[0;32m<ipython-input-15-d98f0d7838ec>\u001b[0m in \u001b[0;36m<module>\u001b[0;34m\u001b[0m\n\u001b[0;32m----> 1\u001b[0;31m \u001b[0mbad_science\u001b[0m\u001b[0;34m(\u001b[0m\u001b[0;36m0\u001b[0m\u001b[0;34m)\u001b[0m\u001b[0;34m\u001b[0m\u001b[0;34m\u001b[0m\u001b[0m\n\u001b[0m",
      "\u001b[0;32m<ipython-input-14-abc14cd5ba2b>\u001b[0m in \u001b[0;36mbad_science\u001b[0;34m(x)\u001b[0m\n\u001b[1;32m      1\u001b[0m \u001b[0;32mdef\u001b[0m \u001b[0mbad_science\u001b[0m\u001b[0;34m(\u001b[0m\u001b[0mx\u001b[0m\u001b[0;34m)\u001b[0m\u001b[0;34m:\u001b[0m\u001b[0;34m\u001b[0m\u001b[0;34m\u001b[0m\u001b[0m\n\u001b[0;32m----> 2\u001b[0;31m     \u001b[0;32mreturn\u001b[0m \u001b[0;36m1\u001b[0m \u001b[0;34m/\u001b[0m \u001b[0mx\u001b[0m\u001b[0;34m\u001b[0m\u001b[0;34m\u001b[0m\u001b[0m\n\u001b[0m",
      "\u001b[0;31mZeroDivisionError\u001b[0m: division by zero"
     ]
    }
   ],
   "source": [
    "bad_science(0)"
   ]
  },
  {
   "cell_type": "code",
   "execution_count": 16,
   "metadata": {},
   "outputs": [
    {
     "name": "stdout",
     "output_type": "stream",
     "text": [
      "created map proper-wicked-chair with 5 components\n"
     ]
    }
   ],
   "source": [
    "m = htmap.map(bad_science, range(5))"
   ]
  },
  {
   "cell_type": "code",
   "execution_count": 17,
   "metadata": {},
   "outputs": [
    {
     "ename": "MapComponentError",
     "evalue": "component 0 of map proper-wicked-chair encountered error while executing. Error report:\n=======  Start error report for component 0 of map proper-wicked-chair  ========\nLanded on execute node 784092410d19 (172.17.0.2) at 2019-05-17 08:52:35.931507\n\nPython executable is /opt/conda/bin/python3 (version 3.7.3 final)\nwith installed packages\n  alembic==1.0.8\n  asn1crypto==0.24.0\n  async-generator==1.10\n  attrs==19.1.0\n  backcall==0.1.0\n  beautifulsoup4==4.7.1\n  bleach==3.1.0\n  blinker==1.4\n  bokeh==1.0.4\n  certifi==2019.3.9\n  certipy==0.1.3\n  cffi==1.12.3\n  chardet==3.0.4\n  Click==7.0\n  click-didyoumean==0.0.3\n  cloudpickle==0.6.1\n  colorama==0.3.9\n  conda==4.6.14\n  cryptography==2.6.1\n  cursor==1.2.0\n  cycler==0.10.0\n  Cython==0.29.7\n  cytoolz==0.9.0.1\n  dask==1.1.5\n  decorator==4.4.0\n  defusedxml==0.5.0\n  dill==0.2.9\n  distributed==1.28.0\n  entrypoints==0.3\n  enum34==1.1.6\n  fastcache==1.1.0\n  gmpy2==2.0.8\n  h5py==2.9.0\n  halo==0.0.23\n  heapdict==1.0.0\n  htcondor==8.9.1\n  htmap==0.3.0\n  idna==2.8\n  imageio==2.5.0\n  ipykernel==5.1.0\n  ipython==7.5.0\n  ipython-genutils==0.2.0\n  ipywidgets==7.4.2\n  jedi==0.13.3\n  Jinja2==2.10.1\n  jsonschema==3.0.1\n  jupyter-client==5.2.4\n  jupyter-core==4.4.0\n  jupyterhub==1.0.0\n  jupyterlab==0.35.5\n  jupyterlab-server==0.2.0\n  kiwisolver==1.1.0\n  llvmlite==0.27.1\n  locket==0.2.0\n  log-symbols==0.0.12\n  Mako==1.0.7\n  MarkupSafe==1.1.1\n  matplotlib==3.0.3\n  mistune==0.8.4\n  mpmath==1.1.0\n  msgpack==0.6.1\n  nbconvert==5.5.0\n  nbformat==4.4.0\n  nbstripout==0.3.5\n  networkx==2.3\n  notebook==5.7.8\n  numba==0.42.1\n  numexpr==2.6.9\n  numpy==1.15.4\n  oauthlib==3.0.1\n  olefile==0.46\n  packaging==19.0\n  pamela==1.0.0\n  pandas==0.24.2\n  pandocfilters==1.4.2\n  parso==0.4.0\n  partd==0.3.9\n  patsy==0.5.1\n  pexpect==4.7.0\n  pickleshare==0.7.5\n  Pillow==6.0.0\n  prometheus-client==0.6.0\n  prompt-toolkit==2.0.9\n  protobuf==3.7.1\n  psutil==5.6.2\n  ptyprocess==0.6.0\n  pycosat==0.6.3\n  pycparser==2.19\n  pycurl==7.43.0.2\n  Pygments==2.4.0\n  PyJWT==1.7.1\n  pyOpenSSL==19.0.0\n  pyparsing==2.4.0\n  pyrsistent==0.15.2\n  PySocks==1.6.8\n  python-dateutil==2.8.0\n  python-editor==1.0.4\n  pytz==2019.1\n  PyWavelets==1.0.3\n  PyYAML==5.1\n  pyzmq==18.0.1\n  requests==2.21.0\n  ruamel-yaml==0.15.71\n  scikit-image==0.14.2\n  scikit-learn==0.20.3\n  scipy==1.2.1\n  seaborn==0.9.0\n  Send2Trash==1.5.0\n  six==1.11.0\n  sortedcontainers==2.1.0\n  soupsieve==1.9.1\n  spinners==0.0.23\n  SQLAlchemy==1.3.3\n  statsmodels==0.9.0\n  sympy==1.3\n  tblib==1.3.2\n  termcolor==1.1.0\n  terminado==0.8.2\n  testpath==0.4.2\n  toml==0.10.0\n  toolz==0.9.0\n  tornado==6.0.2\n  tqdm==4.32.1\n  traitlets==4.3.2\n  urllib3==1.24.2\n  vincent==0.4.4\n  wcwidth==0.1.7\n  webencodings==0.5.1\n  widgetsnbextension==3.4.2\n  xlrd==1.2.0\n  zict==0.1.4\n\nScratch directory contents are\n  /home/jovyan/.condor/state/execute/dir_1586/_condor_stderr\n  /home/jovyan/.condor/state/execute/dir_1586/.chirp.config\n  /home/jovyan/.condor/state/execute/dir_1586/.update.ad\n  /home/jovyan/.condor/state/execute/dir_1586/condor_exec.exe\n  /home/jovyan/.condor/state/execute/dir_1586/.job.ad\n  /home/jovyan/.condor/state/execute/dir_1586/_condor_stdout\n  /home/jovyan/.condor/state/execute/dir_1586/.machine.ad\n  /home/jovyan/.condor/state/execute/dir_1586/_htmap_transfer\n  /home/jovyan/.condor/state/execute/dir_1586/0.in\n  /home/jovyan/.condor/state/execute/dir_1586/func\n\nException and traceback (most recent call last):\n  File \"<ipython-input-14-abc14cd5ba2b>\", line 2, in bad_science\n    return 1 / x\n\n    Local variables:\n      x = 0\n\n  ZeroDivisionError: division by zero\n\n========  End error report for component 0 of map proper-wicked-chair  =========",
     "output_type": "error",
     "traceback": [
      "\u001b[0;31m---------------------------------------------------------------------------\u001b[0m",
      "\u001b[0;31mMapComponentError\u001b[0m                         Traceback (most recent call last)",
      "\u001b[0;32m<ipython-input-17-444b761b1f09>\u001b[0m in \u001b[0;36m<module>\u001b[0;34m\u001b[0m\n\u001b[0;32m----> 1\u001b[0;31m \u001b[0mlist\u001b[0m\u001b[0;34m(\u001b[0m\u001b[0mm\u001b[0m\u001b[0;34m)\u001b[0m\u001b[0;34m\u001b[0m\u001b[0;34m\u001b[0m\u001b[0m\n\u001b[0m",
      "\u001b[0;32m/opt/conda/lib/python3.7/site-packages/htmap/maps.py\u001b[0m in \u001b[0;36m__iter__\u001b[0;34m(self)\u001b[0m\n\u001b[1;32m    396\u001b[0m         \u001b[0mwaiting\u001b[0m \u001b[0mon\u001b[0m \u001b[0meach\u001b[0m \u001b[0mindividual\u001b[0m \u001b[0moutput\u001b[0m \u001b[0mto\u001b[0m \u001b[0mbecome\u001b[0m \u001b[0mavailable\u001b[0m\u001b[0;34m.\u001b[0m\u001b[0;34m\u001b[0m\u001b[0;34m\u001b[0m\u001b[0m\n\u001b[1;32m    397\u001b[0m         \"\"\"\n\u001b[0;32m--> 398\u001b[0;31m         \u001b[0;32myield\u001b[0m \u001b[0;32mfrom\u001b[0m \u001b[0mself\u001b[0m\u001b[0;34m.\u001b[0m\u001b[0miter\u001b[0m\u001b[0;34m(\u001b[0m\u001b[0;34m)\u001b[0m\u001b[0;34m\u001b[0m\u001b[0;34m\u001b[0m\u001b[0m\n\u001b[0m\u001b[1;32m    399\u001b[0m \u001b[0;34m\u001b[0m\u001b[0m\n\u001b[1;32m    400\u001b[0m     def iter(\n",
      "\u001b[0;32m/opt/conda/lib/python3.7/site-packages/htmap/maps.py\u001b[0m in \u001b[0;36miter\u001b[0;34m(self, callback, timeout)\u001b[0m\n\u001b[1;32m    419\u001b[0m \u001b[0;34m\u001b[0m\u001b[0m\n\u001b[1;32m    420\u001b[0m         \u001b[0;32mfor\u001b[0m \u001b[0mcomponent\u001b[0m \u001b[0;32min\u001b[0m \u001b[0mself\u001b[0m\u001b[0;34m.\u001b[0m\u001b[0mcomponents\u001b[0m\u001b[0;34m:\u001b[0m\u001b[0;34m\u001b[0m\u001b[0;34m\u001b[0m\u001b[0m\n\u001b[0;32m--> 421\u001b[0;31m             \u001b[0moutput\u001b[0m \u001b[0;34m=\u001b[0m \u001b[0mself\u001b[0m\u001b[0;34m.\u001b[0m\u001b[0m_load_output\u001b[0m\u001b[0;34m(\u001b[0m\u001b[0mcomponent\u001b[0m\u001b[0;34m,\u001b[0m \u001b[0mtimeout\u001b[0m \u001b[0;34m=\u001b[0m \u001b[0mtimeout\u001b[0m\u001b[0;34m)\u001b[0m\u001b[0;34m\u001b[0m\u001b[0;34m\u001b[0m\u001b[0m\n\u001b[0m\u001b[1;32m    422\u001b[0m             \u001b[0mcallback\u001b[0m\u001b[0;34m(\u001b[0m\u001b[0moutput\u001b[0m\u001b[0;34m)\u001b[0m\u001b[0;34m\u001b[0m\u001b[0;34m\u001b[0m\u001b[0m\n\u001b[1;32m    423\u001b[0m             \u001b[0;32myield\u001b[0m \u001b[0moutput\u001b[0m\u001b[0;34m\u001b[0m\u001b[0;34m\u001b[0m\u001b[0m\n",
      "\u001b[0;32m/opt/conda/lib/python3.7/site-packages/htmap/maps.py\u001b[0m in \u001b[0;36m_load_output\u001b[0;34m(self, component, timeout)\u001b[0m\n\u001b[1;32m    324\u001b[0m             \u001b[0;32mreturn\u001b[0m \u001b[0mnext\u001b[0m\u001b[0;34m(\u001b[0m\u001b[0mstatus_and_result\u001b[0m\u001b[0;34m)\u001b[0m\u001b[0;34m\u001b[0m\u001b[0;34m\u001b[0m\u001b[0m\n\u001b[1;32m    325\u001b[0m         \u001b[0;32melif\u001b[0m \u001b[0mstatus\u001b[0m \u001b[0;34m==\u001b[0m \u001b[0;34m'ERR'\u001b[0m\u001b[0;34m:\u001b[0m\u001b[0;34m\u001b[0m\u001b[0;34m\u001b[0m\u001b[0m\n\u001b[0;32m--> 326\u001b[0;31m             \u001b[0;32mraise\u001b[0m \u001b[0mexceptions\u001b[0m\u001b[0;34m.\u001b[0m\u001b[0mMapComponentError\u001b[0m\u001b[0;34m(\u001b[0m\u001b[0;34mf'component {component} of map {self.tag} encountered error while executing. Error report:\\n{self._load_error(component).report()}'\u001b[0m\u001b[0;34m)\u001b[0m\u001b[0;34m\u001b[0m\u001b[0;34m\u001b[0m\u001b[0m\n\u001b[0m\u001b[1;32m    327\u001b[0m         \u001b[0;32melse\u001b[0m\u001b[0;34m:\u001b[0m\u001b[0;34m\u001b[0m\u001b[0;34m\u001b[0m\u001b[0m\n\u001b[1;32m    328\u001b[0m             \u001b[0;32mraise\u001b[0m \u001b[0mexceptions\u001b[0m\u001b[0;34m.\u001b[0m\u001b[0mInvalidOutputStatus\u001b[0m\u001b[0;34m(\u001b[0m\u001b[0;34mf'output status {status} is not valid'\u001b[0m\u001b[0;34m)\u001b[0m\u001b[0;34m\u001b[0m\u001b[0;34m\u001b[0m\u001b[0m\n",
      "\u001b[0;31mMapComponentError\u001b[0m: component 0 of map proper-wicked-chair encountered error while executing. Error report:\n=======  Start error report for component 0 of map proper-wicked-chair  ========\nLanded on execute node 784092410d19 (172.17.0.2) at 2019-05-17 08:52:35.931507\n\nPython executable is /opt/conda/bin/python3 (version 3.7.3 final)\nwith installed packages\n  alembic==1.0.8\n  asn1crypto==0.24.0\n  async-generator==1.10\n  attrs==19.1.0\n  backcall==0.1.0\n  beautifulsoup4==4.7.1\n  bleach==3.1.0\n  blinker==1.4\n  bokeh==1.0.4\n  certifi==2019.3.9\n  certipy==0.1.3\n  cffi==1.12.3\n  chardet==3.0.4\n  Click==7.0\n  click-didyoumean==0.0.3\n  cloudpickle==0.6.1\n  colorama==0.3.9\n  conda==4.6.14\n  cryptography==2.6.1\n  cursor==1.2.0\n  cycler==0.10.0\n  Cython==0.29.7\n  cytoolz==0.9.0.1\n  dask==1.1.5\n  decorator==4.4.0\n  defusedxml==0.5.0\n  dill==0.2.9\n  distributed==1.28.0\n  entrypoints==0.3\n  enum34==1.1.6\n  fastcache==1.1.0\n  gmpy2==2.0.8\n  h5py==2.9.0\n  halo==0.0.23\n  heapdict==1.0.0\n  htcondor==8.9.1\n  htmap==0.3.0\n  idna==2.8\n  imageio==2.5.0\n  ipykernel==5.1.0\n  ipython==7.5.0\n  ipython-genutils==0.2.0\n  ipywidgets==7.4.2\n  jedi==0.13.3\n  Jinja2==2.10.1\n  jsonschema==3.0.1\n  jupyter-client==5.2.4\n  jupyter-core==4.4.0\n  jupyterhub==1.0.0\n  jupyterlab==0.35.5\n  jupyterlab-server==0.2.0\n  kiwisolver==1.1.0\n  llvmlite==0.27.1\n  locket==0.2.0\n  log-symbols==0.0.12\n  Mako==1.0.7\n  MarkupSafe==1.1.1\n  matplotlib==3.0.3\n  mistune==0.8.4\n  mpmath==1.1.0\n  msgpack==0.6.1\n  nbconvert==5.5.0\n  nbformat==4.4.0\n  nbstripout==0.3.5\n  networkx==2.3\n  notebook==5.7.8\n  numba==0.42.1\n  numexpr==2.6.9\n  numpy==1.15.4\n  oauthlib==3.0.1\n  olefile==0.46\n  packaging==19.0\n  pamela==1.0.0\n  pandas==0.24.2\n  pandocfilters==1.4.2\n  parso==0.4.0\n  partd==0.3.9\n  patsy==0.5.1\n  pexpect==4.7.0\n  pickleshare==0.7.5\n  Pillow==6.0.0\n  prometheus-client==0.6.0\n  prompt-toolkit==2.0.9\n  protobuf==3.7.1\n  psutil==5.6.2\n  ptyprocess==0.6.0\n  pycosat==0.6.3\n  pycparser==2.19\n  pycurl==7.43.0.2\n  Pygments==2.4.0\n  PyJWT==1.7.1\n  pyOpenSSL==19.0.0\n  pyparsing==2.4.0\n  pyrsistent==0.15.2\n  PySocks==1.6.8\n  python-dateutil==2.8.0\n  python-editor==1.0.4\n  pytz==2019.1\n  PyWavelets==1.0.3\n  PyYAML==5.1\n  pyzmq==18.0.1\n  requests==2.21.0\n  ruamel-yaml==0.15.71\n  scikit-image==0.14.2\n  scikit-learn==0.20.3\n  scipy==1.2.1\n  seaborn==0.9.0\n  Send2Trash==1.5.0\n  six==1.11.0\n  sortedcontainers==2.1.0\n  soupsieve==1.9.1\n  spinners==0.0.23\n  SQLAlchemy==1.3.3\n  statsmodels==0.9.0\n  sympy==1.3\n  tblib==1.3.2\n  termcolor==1.1.0\n  terminado==0.8.2\n  testpath==0.4.2\n  toml==0.10.0\n  toolz==0.9.0\n  tornado==6.0.2\n  tqdm==4.32.1\n  traitlets==4.3.2\n  urllib3==1.24.2\n  vincent==0.4.4\n  wcwidth==0.1.7\n  webencodings==0.5.1\n  widgetsnbextension==3.4.2\n  xlrd==1.2.0\n  zict==0.1.4\n\nScratch directory contents are\n  /home/jovyan/.condor/state/execute/dir_1586/_condor_stderr\n  /home/jovyan/.condor/state/execute/dir_1586/.chirp.config\n  /home/jovyan/.condor/state/execute/dir_1586/.update.ad\n  /home/jovyan/.condor/state/execute/dir_1586/condor_exec.exe\n  /home/jovyan/.condor/state/execute/dir_1586/.job.ad\n  /home/jovyan/.condor/state/execute/dir_1586/_condor_stdout\n  /home/jovyan/.condor/state/execute/dir_1586/.machine.ad\n  /home/jovyan/.condor/state/execute/dir_1586/_htmap_transfer\n  /home/jovyan/.condor/state/execute/dir_1586/0.in\n  /home/jovyan/.condor/state/execute/dir_1586/func\n\nException and traceback (most recent call last):\n  File \"<ipython-input-14-abc14cd5ba2b>\", line 2, in bad_science\n    return 1 / x\n\n    Local variables:\n      x = 0\n\n  ZeroDivisionError: division by zero\n\n========  End error report for component 0 of map proper-wicked-chair  ========="
     ]
    }
   ],
   "source": [
    "list(m)"
   ]
  },
  {
   "cell_type": "markdown",
   "metadata": {},
   "source": [
    "**Jump over to HTMap's full tutorials with Binder!** [![Binder](https://mybinder.org/badge_logo.svg)](https://mybinder.org/v2/gh/htcondor/htmap/master?urlpath=lab/tree/tutorials/first-steps.ipynb)"
   ]
  }
 ],
 "metadata": {
  "kernelspec": {
   "display_name": "Python 3",
   "language": "python",
   "name": "python3"
  },
  "language_info": {
   "codemirror_mode": {
    "name": "ipython",
    "version": 3
   },
   "file_extension": ".py",
   "mimetype": "text/x-python",
   "name": "python",
   "nbconvert_exporter": "python",
   "pygments_lexer": "ipython3",
   "version": "3.7.3"
  },
  "pycharm": {
   "stem_cell": {
    "cell_type": "raw",
    "metadata": {
     "collapsed": false
    },
    "source": []
   }
  }
 },
 "nbformat": 4,
 "nbformat_minor": 2
}
