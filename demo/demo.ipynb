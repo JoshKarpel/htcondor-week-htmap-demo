{
 "cells": [
  {
   "cell_type": "markdown",
   "metadata": {},
   "source": [
    "# HTMap Demo"
   ]
  },
  {
   "cell_type": "code",
   "execution_count": 6,
   "metadata": {},
   "outputs": [],
   "source": [
    "import htmap"
   ]
  },
  {
   "cell_type": "code",
   "execution_count": 7,
   "metadata": {},
   "outputs": [],
   "source": [
    "def double(x):\n",
    "    return 2 * x"
   ]
  },
  {
   "cell_type": "code",
   "execution_count": 8,
   "metadata": {},
   "outputs": [
    {
     "name": "stdout",
     "output_type": "stream",
     "text": [
      "created map soggy-dizzy-poem with 10 components\n"
     ]
    }
   ],
   "source": [
    "map = htmap.map(double, range(10))"
   ]
  },
  {
   "cell_type": "code",
   "execution_count": 9,
   "metadata": {},
   "outputs": [
    {
     "name": "stdout",
     "output_type": "stream",
     "text": [
      "<Map(tag = soggy-dizzy-poem)>\n"
     ]
    }
   ],
   "source": [
    "print(map)"
   ]
  },
  {
   "cell_type": "code",
   "execution_count": 10,
   "metadata": {},
   "outputs": [
    {
     "name": "stdout",
     "output_type": "stream",
     "text": [
      "[0, 2, 4, 6, 8, 10, 12, 14, 16, 18]\n"
     ]
    }
   ],
   "source": [
    "print(list(map))"
   ]
  },
  {
   "cell_type": "code",
   "execution_count": 11,
   "metadata": {
    "pycharm": {
     "name": "#%%\n"
    }
   },
   "outputs": [
    {
     "name": "stdout",
     "output_type": "stream",
     "text": [
      "0\n",
      "2\n",
      "4\n",
      "6\n",
      "8\n",
      "10\n",
      "12\n",
      "14\n",
      "16\n",
      "18\n"
     ]
    }
   ],
   "source": [
    "for x in map:\n",
    "    print(x)"
   ]
  },
  {
   "cell_type": "markdown",
   "metadata": {},
   "source": [
    "## Libraries"
   ]
  },
  {
   "cell_type": "code",
   "execution_count": 16,
   "metadata": {},
   "outputs": [],
   "source": [
    "import numpy as np\n",
    "\n",
    "x = np.linspace(0, 10, 20)"
   ]
  },
  {
   "cell_type": "code",
   "execution_count": 17,
   "metadata": {},
   "outputs": [
    {
     "name": "stdout",
     "output_type": "stream",
     "text": [
      "created map torrid-angry-law with 20 components\n"
     ]
    }
   ],
   "source": [
    "map = htmap.map(lambda f: np.sqrt(f), x)"
   ]
  },
  {
   "cell_type": "code",
   "execution_count": 18,
   "metadata": {},
   "outputs": [
    {
     "name": "stdout",
     "output_type": "stream",
     "text": [
      "<Map(tag = torrid-angry-law)>\n"
     ]
    }
   ],
   "source": [
    "print(map)"
   ]
  },
  {
   "cell_type": "code",
   "execution_count": 19,
   "metadata": {},
   "outputs": [
    {
     "name": "stdout",
     "output_type": "stream",
     "text": [
      "[ 0.          0.72547625  1.02597835  1.25656172  1.4509525   1.62221421\n",
      "  1.77704663  1.91942974  2.0519567   2.17642875  2.29415734  2.40613252\n",
      "  2.51312345  2.61574182  2.71448357  2.80975743  2.901905    2.99121521\n",
      "  3.07793506  3.16227766]\n"
     ]
    }
   ],
   "source": [
    "y = np.array(list(map))\n",
    "print(y)"
   ]
  },
  {
   "cell_type": "markdown",
   "metadata": {},
   "source": [
    "## Error Handling"
   ]
  },
  {
   "cell_type": "code",
   "execution_count": 27,
   "metadata": {},
   "outputs": [
    {
     "name": "stdout",
     "output_type": "stream",
     "text": [
      "created map thin-dark-city with 5 components\n"
     ]
    }
   ],
   "source": [
    "m = htmap.map(lambda x: 1 / x, range(5))"
   ]
  },
  {
   "cell_type": "code",
   "execution_count": 28,
   "metadata": {},
   "outputs": [
    {
     "ename": "MapComponentError",
     "evalue": "component 0 of map thin-dark-city encountered error while executing. Error report:\n==========  Start error report for component 0 of map thin-dark-city  ==========\nLanded on execute node 686c9e64992d (172.17.0.2) at 2019-05-13 20:55:54.120618\n\nPython executable is /opt/conda/bin/python3 (version 3.6.6 final)\nwith installed packages\n  alembic==0.9.9\n  asn1crypto==0.24.0\n  async-generator==1.10\n  backcall==0.1.0\n  beautifulsoup4==4.6.3\n  bleach==3.0.2\n  bokeh==0.13.0\n  certifi==2018.10.15\n  cffi==1.11.5\n  chardet==3.0.4\n  Click==7.0\n  click-didyoumean==0.0.3\n  cloudpickle==0.6.1\n  colorama==0.3.9\n  conda==4.5.11\n  cryptography==2.3.1\n  cryptography-vectors==2.3.1\n  cursor==1.2.0\n  cycler==0.10.0\n  Cython==0.28.5\n  dask==0.19.4\n  decorator==4.3.0\n  dill==0.2.8.2\n  entrypoints==0.2.3\n  enum34==1.1.6\n  fastcache==1.0.2\n  gmpy2==2.0.8\n  h5py==2.7.1\n  halo==0.0.23\n  htcondor==8.9.1\n  htmap==0.3.0\n  idna==2.7\n  imageio==2.3.0\n  ipykernel==5.1.0\n  ipython==7.0.1\n  ipython-genutils==0.2.0\n  ipywidgets==7.2.1\n  jedi==0.13.1\n  Jinja2==2.10\n  jsonschema==2.6.0\n  jupyter-client==5.2.3\n  jupyter-core==4.4.0\n  jupyterhub==0.9.4\n  jupyterlab==0.34.12\n  jupyterlab-launcher==0.13.1\n  kiwisolver==1.0.1\n  llvmlite==0.23.0\n  log-symbols==0.0.12\n  Mako==1.0.7\n  MarkupSafe==1.0\n  matplotlib==2.2.3\n  mistune==0.8.4\n  mpmath==1.0.0\n  nbconvert==5.3.1\n  nbformat==4.4.0\n  nbstripout==0.3.5\n  networkx==2.2\n  notebook==5.7.0\n  numba==0.38.1\n  numexpr==2.6.8\n  numpy==1.13.3\n  olefile==0.46\n  packaging==18.0\n  pamela==0.3.0\n  pandas==0.23.4\n  pandocfilters==1.4.2\n  parso==0.3.1\n  patsy==0.5.0\n  pexpect==4.6.0\n  pickleshare==0.7.5\n  Pillow==5.3.0\n  prometheus-client==0.4.2\n  prompt-toolkit==2.0.6\n  protobuf==3.6.1\n  ptyprocess==0.6.0\n  pycosat==0.6.3\n  pycparser==2.19\n  pycurl==7.43.0.2\n  Pygments==2.2.0\n  pyOpenSSL==18.0.0\n  pyparsing==2.2.2\n  PySocks==1.6.8\n  python-dateutil==2.7.3\n  python-editor==1.0.3\n  python-oauth2==1.0.1\n  pytz==2018.6\n  PyWavelets==1.0.1\n  PyYAML==3.13\n  pyzmq==17.1.2\n  requests==2.20.0\n  ruamel-yaml==0.15.71\n  scikit-image==0.14.1\n  scikit-learn==0.19.2\n  scipy==1.1.0\n  seaborn==0.9.0\n  Send2Trash==1.5.0\n  simplegeneric==0.8.1\n  six==1.11.0\n  spinners==0.0.23\n  SQLAlchemy==1.2.12\n  statsmodels==0.9.0\n  sympy==1.1.1\n  termcolor==1.1.0\n  terminado==0.8.1\n  testpath==0.4.2\n  toml==0.10.0\n  toolz==0.9.0\n  tornado==5.1.1\n  tqdm==4.31.1\n  traitlets==4.3.2\n  urllib3==1.23\n  vincent==0.4.4\n  wcwidth==0.1.7\n  webencodings==0.5.1\n  widgetsnbextension==3.2.1\n  xlrd==1.1.0\n\nScratch directory contents are\n  /home/jovyan/.condor/state/execute/dir_2061/_condor_stderr\n  /home/jovyan/.condor/state/execute/dir_2061/.chirp.config\n  /home/jovyan/.condor/state/execute/dir_2061/.update.ad\n  /home/jovyan/.condor/state/execute/dir_2061/condor_exec.exe\n  /home/jovyan/.condor/state/execute/dir_2061/.job.ad\n  /home/jovyan/.condor/state/execute/dir_2061/_condor_stdout\n  /home/jovyan/.condor/state/execute/dir_2061/.machine.ad\n  /home/jovyan/.condor/state/execute/dir_2061/_htmap_transfer\n  /home/jovyan/.condor/state/execute/dir_2061/0.in\n  /home/jovyan/.condor/state/execute/dir_2061/func\n\nException and traceback (most recent call last):\n  File \"<ipython-input-27-7c72050fc964>\", line 1, in <lambda>\n    m = htmap.map(lambda x: 1 / x, range(5))\n\n    Local variables:\n      x = 0\n\n  ZeroDivisionError: division by zero\n\n===========  End error report for component 0 of map thin-dark-city  ===========",
     "output_type": "error",
     "traceback": [
      "\u001b[0;31m---------------------------------------------------------------------------\u001b[0m",
      "\u001b[0;31mMapComponentError\u001b[0m                         Traceback (most recent call last)",
      "\u001b[0;32m<ipython-input-28-444b761b1f09>\u001b[0m in \u001b[0;36m<module>\u001b[0;34m\u001b[0m\n\u001b[0;32m----> 1\u001b[0;31m \u001b[0mlist\u001b[0m\u001b[0;34m(\u001b[0m\u001b[0mm\u001b[0m\u001b[0;34m)\u001b[0m\u001b[0;34m\u001b[0m\u001b[0m\n\u001b[0m",
      "\u001b[0;32m/opt/conda/lib/python3.6/site-packages/htmap/maps.py\u001b[0m in \u001b[0;36m__iter__\u001b[0;34m(self)\u001b[0m\n\u001b[1;32m    396\u001b[0m         \u001b[0mwaiting\u001b[0m \u001b[0mon\u001b[0m \u001b[0meach\u001b[0m \u001b[0mindividual\u001b[0m \u001b[0moutput\u001b[0m \u001b[0mto\u001b[0m \u001b[0mbecome\u001b[0m \u001b[0mavailable\u001b[0m\u001b[0;34m.\u001b[0m\u001b[0;34m\u001b[0m\u001b[0m\n\u001b[1;32m    397\u001b[0m         \"\"\"\n\u001b[0;32m--> 398\u001b[0;31m         \u001b[0;32myield\u001b[0m \u001b[0;32mfrom\u001b[0m \u001b[0mself\u001b[0m\u001b[0;34m.\u001b[0m\u001b[0miter\u001b[0m\u001b[0;34m(\u001b[0m\u001b[0;34m)\u001b[0m\u001b[0;34m\u001b[0m\u001b[0m\n\u001b[0m\u001b[1;32m    399\u001b[0m \u001b[0;34m\u001b[0m\u001b[0m\n\u001b[1;32m    400\u001b[0m     def iter(\n",
      "\u001b[0;32m/opt/conda/lib/python3.6/site-packages/htmap/maps.py\u001b[0m in \u001b[0;36miter\u001b[0;34m(self, callback, timeout)\u001b[0m\n\u001b[1;32m    419\u001b[0m \u001b[0;34m\u001b[0m\u001b[0m\n\u001b[1;32m    420\u001b[0m         \u001b[0;32mfor\u001b[0m \u001b[0mcomponent\u001b[0m \u001b[0;32min\u001b[0m \u001b[0mself\u001b[0m\u001b[0;34m.\u001b[0m\u001b[0mcomponents\u001b[0m\u001b[0;34m:\u001b[0m\u001b[0;34m\u001b[0m\u001b[0m\n\u001b[0;32m--> 421\u001b[0;31m             \u001b[0moutput\u001b[0m \u001b[0;34m=\u001b[0m \u001b[0mself\u001b[0m\u001b[0;34m.\u001b[0m\u001b[0m_load_output\u001b[0m\u001b[0;34m(\u001b[0m\u001b[0mcomponent\u001b[0m\u001b[0;34m,\u001b[0m \u001b[0mtimeout\u001b[0m \u001b[0;34m=\u001b[0m \u001b[0mtimeout\u001b[0m\u001b[0;34m)\u001b[0m\u001b[0;34m\u001b[0m\u001b[0m\n\u001b[0m\u001b[1;32m    422\u001b[0m             \u001b[0mcallback\u001b[0m\u001b[0;34m(\u001b[0m\u001b[0moutput\u001b[0m\u001b[0;34m)\u001b[0m\u001b[0;34m\u001b[0m\u001b[0m\n\u001b[1;32m    423\u001b[0m             \u001b[0;32myield\u001b[0m \u001b[0moutput\u001b[0m\u001b[0;34m\u001b[0m\u001b[0m\n",
      "\u001b[0;32m/opt/conda/lib/python3.6/site-packages/htmap/maps.py\u001b[0m in \u001b[0;36m_load_output\u001b[0;34m(self, component, timeout)\u001b[0m\n\u001b[1;32m    324\u001b[0m             \u001b[0;32mreturn\u001b[0m \u001b[0mnext\u001b[0m\u001b[0;34m(\u001b[0m\u001b[0mstatus_and_result\u001b[0m\u001b[0;34m)\u001b[0m\u001b[0;34m\u001b[0m\u001b[0m\n\u001b[1;32m    325\u001b[0m         \u001b[0;32melif\u001b[0m \u001b[0mstatus\u001b[0m \u001b[0;34m==\u001b[0m \u001b[0;34m'ERR'\u001b[0m\u001b[0;34m:\u001b[0m\u001b[0;34m\u001b[0m\u001b[0m\n\u001b[0;32m--> 326\u001b[0;31m             \u001b[0;32mraise\u001b[0m \u001b[0mexceptions\u001b[0m\u001b[0;34m.\u001b[0m\u001b[0mMapComponentError\u001b[0m\u001b[0;34m(\u001b[0m\u001b[0;34mf'component {component} of map {self.tag} encountered error while executing. Error report:\\n{self._load_error(component).report()}'\u001b[0m\u001b[0;34m)\u001b[0m\u001b[0;34m\u001b[0m\u001b[0m\n\u001b[0m\u001b[1;32m    327\u001b[0m         \u001b[0;32melse\u001b[0m\u001b[0;34m:\u001b[0m\u001b[0;34m\u001b[0m\u001b[0m\n\u001b[1;32m    328\u001b[0m             \u001b[0;32mraise\u001b[0m \u001b[0mexceptions\u001b[0m\u001b[0;34m.\u001b[0m\u001b[0mInvalidOutputStatus\u001b[0m\u001b[0;34m(\u001b[0m\u001b[0;34mf'output status {status} is not valid'\u001b[0m\u001b[0;34m)\u001b[0m\u001b[0;34m\u001b[0m\u001b[0m\n",
      "\u001b[0;31mMapComponentError\u001b[0m: component 0 of map thin-dark-city encountered error while executing. Error report:\n==========  Start error report for component 0 of map thin-dark-city  ==========\nLanded on execute node 686c9e64992d (172.17.0.2) at 2019-05-13 20:55:54.120618\n\nPython executable is /opt/conda/bin/python3 (version 3.6.6 final)\nwith installed packages\n  alembic==0.9.9\n  asn1crypto==0.24.0\n  async-generator==1.10\n  backcall==0.1.0\n  beautifulsoup4==4.6.3\n  bleach==3.0.2\n  bokeh==0.13.0\n  certifi==2018.10.15\n  cffi==1.11.5\n  chardet==3.0.4\n  Click==7.0\n  click-didyoumean==0.0.3\n  cloudpickle==0.6.1\n  colorama==0.3.9\n  conda==4.5.11\n  cryptography==2.3.1\n  cryptography-vectors==2.3.1\n  cursor==1.2.0\n  cycler==0.10.0\n  Cython==0.28.5\n  dask==0.19.4\n  decorator==4.3.0\n  dill==0.2.8.2\n  entrypoints==0.2.3\n  enum34==1.1.6\n  fastcache==1.0.2\n  gmpy2==2.0.8\n  h5py==2.7.1\n  halo==0.0.23\n  htcondor==8.9.1\n  htmap==0.3.0\n  idna==2.7\n  imageio==2.3.0\n  ipykernel==5.1.0\n  ipython==7.0.1\n  ipython-genutils==0.2.0\n  ipywidgets==7.2.1\n  jedi==0.13.1\n  Jinja2==2.10\n  jsonschema==2.6.0\n  jupyter-client==5.2.3\n  jupyter-core==4.4.0\n  jupyterhub==0.9.4\n  jupyterlab==0.34.12\n  jupyterlab-launcher==0.13.1\n  kiwisolver==1.0.1\n  llvmlite==0.23.0\n  log-symbols==0.0.12\n  Mako==1.0.7\n  MarkupSafe==1.0\n  matplotlib==2.2.3\n  mistune==0.8.4\n  mpmath==1.0.0\n  nbconvert==5.3.1\n  nbformat==4.4.0\n  nbstripout==0.3.5\n  networkx==2.2\n  notebook==5.7.0\n  numba==0.38.1\n  numexpr==2.6.8\n  numpy==1.13.3\n  olefile==0.46\n  packaging==18.0\n  pamela==0.3.0\n  pandas==0.23.4\n  pandocfilters==1.4.2\n  parso==0.3.1\n  patsy==0.5.0\n  pexpect==4.6.0\n  pickleshare==0.7.5\n  Pillow==5.3.0\n  prometheus-client==0.4.2\n  prompt-toolkit==2.0.6\n  protobuf==3.6.1\n  ptyprocess==0.6.0\n  pycosat==0.6.3\n  pycparser==2.19\n  pycurl==7.43.0.2\n  Pygments==2.2.0\n  pyOpenSSL==18.0.0\n  pyparsing==2.2.2\n  PySocks==1.6.8\n  python-dateutil==2.7.3\n  python-editor==1.0.3\n  python-oauth2==1.0.1\n  pytz==2018.6\n  PyWavelets==1.0.1\n  PyYAML==3.13\n  pyzmq==17.1.2\n  requests==2.20.0\n  ruamel-yaml==0.15.71\n  scikit-image==0.14.1\n  scikit-learn==0.19.2\n  scipy==1.1.0\n  seaborn==0.9.0\n  Send2Trash==1.5.0\n  simplegeneric==0.8.1\n  six==1.11.0\n  spinners==0.0.23\n  SQLAlchemy==1.2.12\n  statsmodels==0.9.0\n  sympy==1.1.1\n  termcolor==1.1.0\n  terminado==0.8.1\n  testpath==0.4.2\n  toml==0.10.0\n  toolz==0.9.0\n  tornado==5.1.1\n  tqdm==4.31.1\n  traitlets==4.3.2\n  urllib3==1.23\n  vincent==0.4.4\n  wcwidth==0.1.7\n  webencodings==0.5.1\n  widgetsnbextension==3.2.1\n  xlrd==1.1.0\n\nScratch directory contents are\n  /home/jovyan/.condor/state/execute/dir_2061/_condor_stderr\n  /home/jovyan/.condor/state/execute/dir_2061/.chirp.config\n  /home/jovyan/.condor/state/execute/dir_2061/.update.ad\n  /home/jovyan/.condor/state/execute/dir_2061/condor_exec.exe\n  /home/jovyan/.condor/state/execute/dir_2061/.job.ad\n  /home/jovyan/.condor/state/execute/dir_2061/_condor_stdout\n  /home/jovyan/.condor/state/execute/dir_2061/.machine.ad\n  /home/jovyan/.condor/state/execute/dir_2061/_htmap_transfer\n  /home/jovyan/.condor/state/execute/dir_2061/0.in\n  /home/jovyan/.condor/state/execute/dir_2061/func\n\nException and traceback (most recent call last):\n  File \"<ipython-input-27-7c72050fc964>\", line 1, in <lambda>\n    m = htmap.map(lambda x: 1 / x, range(5))\n\n    Local variables:\n      x = 0\n\n  ZeroDivisionError: division by zero\n\n===========  End error report for component 0 of map thin-dark-city  ==========="
     ]
    }
   ],
   "source": [
    "list(m)"
   ]
  },
  {
   "cell_type": "markdown",
   "metadata": {},
   "source": [
    "**Jump over to HTMap's full tutorials with Binder!** [![Binder](https://mybinder.org/badge_logo.svg)](https://mybinder.org/v2/gh/htcondor/htmap/master?urlpath=lab/tree/tutorials/first-steps.ipynb)"
   ]
  }
 ],
 "metadata": {
  "kernelspec": {
   "display_name": "Python 3",
   "language": "python",
   "name": "python3"
  },
  "language_info": {
   "codemirror_mode": {
    "name": "ipython",
    "version": 3
   },
   "file_extension": ".py",
   "mimetype": "text/x-python",
   "name": "python",
   "nbconvert_exporter": "python",
   "pygments_lexer": "ipython3",
   "version": "3.6.6"
  },
  "pycharm": {
   "stem_cell": {
    "cell_type": "raw",
    "source": [],
    "metadata": {
     "collapsed": false
    }
   }
  }
 },
 "nbformat": 4,
 "nbformat_minor": 2
}